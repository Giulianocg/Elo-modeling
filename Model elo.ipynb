{
 "cells": [
  {
   "cell_type": "code",
   "execution_count": null,
   "id": "464b8e88",
   "metadata": {},
   "outputs": [],
   "source": [
    "import math\n",
    "import random\n",
    "from collections import defaultdict, Counter, deque\n",
    "from typing import Tuple, List, Set, Dict, Counter\n",
    "from typing import Any, Sequence, Mapping, Iterable, Iterator\n",
    "from itertools import product, chain, islice\n",
    "import doctest\n",
    "import matplotlib.pyplot as plt\n",
    "from matplotlib.pyplot import figure\n",
    "import colorama\n",
    "from colorama import Fore"
   ]
  },
  {
   "cell_type": "code",
   "execution_count": null,
   "id": "53b17362",
   "metadata": {},
   "outputs": [],
   "source": [
    "#change this for different models \n",
    "\n",
    "maxelogain = 32\n",
    "number_players = 100 #must be even\n",
    "games= 100\n",
    "monte_n = 100"
   ]
  },
  {
   "cell_type": "code",
   "execution_count": null,
   "id": "525c7a61",
   "metadata": {},
   "outputs": [],
   "source": [
    "class Player:\n",
    "    \"\"\"A player with real skill and obvservable elo.\n",
    "    \n",
    "    >>> Player('p1', '', '1000')  # test robustness\n",
    "    Traceback (most recent call last):\n",
    "        ...\n",
    "    AssertionError: Must not be empty\n",
    "    >>> playerA = Player('p1',1001, 1000)\n",
    "    >>> playerA  # also tests __repr__()\n",
    "    Player(1001, 1000)\n",
    "    >>> playerA.update(10)\n",
    "    >>> print(playerA)  # also tests __str__()\n",
    "    (1001,1010)\n",
    "    \"\"\"\n",
    "    def __init__(self,name:str, skill: int, elo:int) -> None:\n",
    "        \"\"\"Create player with given state.\n",
    "        \"\"\"\n",
    "        assert name and skill and elo, \"Must not be empty\"\n",
    "        self.skill: int = skill\n",
    "        self.elo: int = elo\n",
    "        self.name: str = name\n",
    "            \n",
    "    def __repr__(self) -> str:\n",
    "        \"\"\"Return machine-processable string representation of current state.\n",
    "        \"\"\"\n",
    "        return f\"Player({self.name},{str(self.skill)}, {str(self.elo)})\"\n",
    "    \n",
    "    def __str__(self) -> str:\n",
    "        \"\"\"Return human-readable string representation of current state.\n",
    "        \"\"\"\n",
    "        return f\"({self.name},{self.skill},{self.elo})\"\n",
    "    \n",
    "    def update(self, gain : int) -> None:\n",
    "        \"\"\" Update the elo after a match\"\"\"\n",
    "        self.elo = self.elo + gain"
   ]
  },
  {
   "cell_type": "code",
   "execution_count": null,
   "id": "04685dcc",
   "metadata": {},
   "outputs": [],
   "source": [
    "#doctest.run_docstring_examples(Player, globals(), verbose=True, name=\"Player\")"
   ]
  },
  {
   "cell_type": "code",
   "execution_count": null,
   "id": "4941f8cb",
   "metadata": {},
   "outputs": [],
   "source": [
    "def match_chess(player1 : Player, player2: Player)->None:\n",
    "    P1win = 1/(1+10**((player2.skill - player1.skill)/400))\n",
    "    P1expec = 1/(1+10**((player2.elo - player1.elo)/400))\n",
    "    res = random.random()\n",
    "    \n",
    "    if res <= P1win:\n",
    "        player1.update( int(maxelogain*(1-P1expec)) ) \n",
    "        player2.update( int(maxelogain*(0-1*(1-P1expec) )))\n",
    "        print('match: ' + player1.name + ' vs '+player2.name+': '+player1.name + ' wins')\n",
    "    elif res > P1win:\n",
    "        player1.update( int(maxelogain*(0-P1expec) ) )\n",
    "        player2.update( int(maxelogain*(1-1*(1-P1expec) )))\n",
    "        print('match: ' + player1.name + ' vs '+player2.name+': '+player2.name + ' wins')"
   ]
  },
  {
   "cell_type": "code",
   "execution_count": null,
   "id": "2f399d71",
   "metadata": {},
   "outputs": [],
   "source": [
    "def ranked(players:List[Player]):\n",
    "    players2=players.copy()\n",
    "    elos = [i.elo for i in players2]\n",
    "    elos.sort()\n",
    "    for i in range(len(elos)):\n",
    "        elo = elos[i]\n",
    "        for p in players2:\n",
    "            if p.elo == elo:\n",
    "                elos[i]=p\n",
    "                players2.remove(p)\n",
    "                break\n",
    "    return elos"
   ]
  },
  {
   "cell_type": "code",
   "execution_count": null,
   "id": "f1538a71",
   "metadata": {},
   "outputs": [],
   "source": [
    "def ranked_true(players:List[Player]):\n",
    "    players2=players.copy()\n",
    "    elos = [i.skill for i in players2]\n",
    "    elos.sort()\n",
    "    for i in range(len(elos)):\n",
    "        elo = elos[i]\n",
    "        for p in players2:\n",
    "            if p.skill == elo:\n",
    "                elos[i]=p\n",
    "                players2.remove(p)\n",
    "                break\n",
    "    return elos"
   ]
  },
  {
   "cell_type": "code",
   "execution_count": null,
   "id": "021ff0af",
   "metadata": {},
   "outputs": [],
   "source": [
    "def rand_matchmaking(players:List[Player]) -> List[Player]:\n",
    "    random.shuffle(players)\n",
    "    return players\n",
    "        "
   ]
  },
  {
   "cell_type": "code",
   "execution_count": null,
   "id": "75211f1b",
   "metadata": {},
   "outputs": [],
   "source": [
    "def chess_round_rand(players:List[Player]) -> None:\n",
    "    order = rand_matchmaking(players)\n",
    "    for i in range(len(players))[::2]:\n",
    "        match_chess(order[i], order[i+1])"
   ]
  },
  {
   "cell_type": "code",
   "execution_count": null,
   "id": "27d09e2f",
   "metadata": {},
   "outputs": [],
   "source": [
    "def state(players:List[Player]):\n",
    "    players2 = players.copy()\n",
    "    state= [[i.name,i.skill, i.elo] for i in players2]\n",
    "    return state"
   ]
  },
  {
   "cell_type": "code",
   "execution_count": null,
   "id": "201e8260",
   "metadata": {},
   "outputs": [],
   "source": [
    "def chess_game_rand(players:List[Player], games : int) -> List[List[Player]]:\n",
    "    global Match_history \n",
    "    Match_history = [i for i in range(games+1)]\n",
    "    for i in range(games):\n",
    "        Match_history[i] = state(players)\n",
    "        print('Round'+str(i))\n",
    "        chess_round_rand(players)\n",
    "    Match_history[-1] = state(players)\n",
    "    return Match_history"
   ]
  },
  {
   "cell_type": "code",
   "execution_count": null,
   "id": "e768de4f",
   "metadata": {},
   "outputs": [],
   "source": [
    "def Conv(lst:List[int], n:int)-> List[int]:\n",
    "    conv = [lst[0]] + [(1/3)*(lst[i-1]+lst[i]+lst[i+1]) for i in range(1, n-1)] + [lst[n-1]]\n",
    "    return conv"
   ]
  },
  {
   "cell_type": "code",
   "execution_count": null,
   "id": "25e1f725",
   "metadata": {},
   "outputs": [],
   "source": [
    "def player_hist(player: str, match_hist):\n",
    "    elos = []\n",
    "    for state in match_hist:\n",
    "        for p in state:\n",
    "            if p[0] == player:  \n",
    "                elos += [p[2]]\n",
    "    return elos"
   ]
  },
  {
   "cell_type": "code",
   "execution_count": null,
   "id": "fd8d5940",
   "metadata": {},
   "outputs": [],
   "source": [
    "def summ_i(all_the_lines: List[List[int]], x:int)->float:\n",
    "    all_is = [all_the_lines[i][x] for i in range(monte_n)]\n",
    "    return sum(all_is)/len(all_is)"
   ]
  },
  {
   "cell_type": "code",
   "execution_count": null,
   "id": "7f40f805",
   "metadata": {},
   "outputs": [],
   "source": [
    "def Sort_mcrlo(sub_li):\n",
    "    sub_li.sort(key = lambda x: x[1])\n",
    "    return sub_li\n",
    "def elo_matchmaking(players:List[Player]) -> List[Player]:\n",
    "    players.sort(key= lambda x: x.elo)\n",
    "    return players\n",
    "def chess_round_elo(players:List[Player]) -> None:\n",
    "    order = elo_matchmaking(players)\n",
    "    for i in range(len(players))[::2]:\n",
    "        match_chess(order[i], order[i+1])    \n",
    "def chess_game_elo(players:List[Player], games : int) -> List[List[Player]]:\n",
    "    global Match_history \n",
    "    Match_history = [i for i in range(games+1)]\n",
    "    for i in range(games):\n",
    "        Match_history[i] = state(players)\n",
    "        chess_round_elo(players)\n",
    "    Match_history[-1] = state(players)\n",
    "    return Match_history"
   ]
  },
  {
   "cell_type": "code",
   "execution_count": null,
   "id": "999e8ae1",
   "metadata": {
    "scrolled": true
   },
   "outputs": [],
   "source": [
    "player_names = ['p'+str(i) for i in range(1,number_players+1)]\n",
    "player_skills = [ random.randint(1,2800) for i in range(1,number_players+1)]\n",
    "\n",
    "players = [Player(player_names[i],  player_skills[i], 1000) for i in range(number_players)]"
   ]
  },
  {
   "cell_type": "code",
   "execution_count": null,
   "id": "f2b97441",
   "metadata": {
    "scrolled": true
   },
   "outputs": [],
   "source": [
    "#a single simulation of 20 players and 100 games of chess throughout time\n",
    "chess_game_rand(players, games) "
   ]
  },
  {
   "cell_type": "code",
   "execution_count": null,
   "id": "8460330a",
   "metadata": {},
   "outputs": [],
   "source": [
    "#The graph of how each player's elo developed over the 100 games\n",
    "x = range(games+1)     #+5\n",
    "all_the_ys = [player_hist('p'+str(i),Match_history) for i in range(1,number_players+1)]\n",
    "figure(figsize=(16, 6), dpi=80)\n",
    "\n",
    "for i in range(len(all_the_ys)):   \n",
    "    plt.plot(x, Conv(all_the_ys[i], games+1), label = \"Player \"+str(i+1))    #+5*[all_the_ys[i][-1]\n",
    "plt.show()"
   ]
  },
  {
   "cell_type": "code",
   "execution_count": null,
   "id": "aa090a02",
   "metadata": {
    "scrolled": true
   },
   "outputs": [],
   "source": [
    "#How does the elo ranking compare to the real skill ranking?\n",
    "\n",
    "print('Final ranking: '+ str([i.name for i in ranked(players)]))\n",
    "print('Real ranking: ' + str([i.name for i in ranked_true(players)]) )"
   ]
  },
  {
   "cell_type": "code",
   "execution_count": null,
   "id": "5cbade23",
   "metadata": {},
   "outputs": [],
   "source": [
    "#for montecarlo sim, we use the same players and run a bunch (100) of simulations of games\n",
    "Lotta_games_rand = []\n",
    "\n",
    "for i in range(monte_n):\n",
    "    players = [Player(player_names[i],  player_skills[i], 1000) for i in range(number_players)]\n",
    "    Lotta_games_rand += [chess_game_rand(players, games)]"
   ]
  },
  {
   "cell_type": "code",
   "execution_count": null,
   "id": "94a34f85",
   "metadata": {},
   "outputs": [],
   "source": [
    "#For a single player , this is 100 simulations of how their 100 games (x axis) could have gone, we will average\n",
    "#to find how well they're expected to do:\n",
    "\n",
    "player_n = 1 #what player do we want to look at\n",
    "\n",
    "x = range(games+1)  \n",
    "all_the_lines = [player_hist('p'+str(player_n),Lotta_games_rand[i]) for i in range(monte_n)]\n",
    "figure(figsize=(16, 6), dpi=80)\n",
    "\n",
    "\n",
    "for i in range(len(all_the_lines)):\n",
    "    plt.plot(x, all_the_lines[i],linewidth=1, color='yellow') \n",
    "    \n",
    "plt.plot(x, [summ_i(all_the_lines, x) for x in range(games+1)], label = \"Player \"+str(player_n), color='red', linewidth=2 )\n",
    "\n",
    "\n",
    "\n",
    "\n",
    "\n",
    "plt.legend()\n",
    "plt.show()"
   ]
  },
  {
   "cell_type": "code",
   "execution_count": null,
   "id": "1d94642d",
   "metadata": {
    "scrolled": true
   },
   "outputs": [],
   "source": [
    "#we can now graph all players after doing montecarlo\n",
    "\n",
    "x = range(games+1) \n",
    "figure(figsize=(16, 6), dpi=80) \n",
    "\n",
    "final_score_mcrlo=[]\n",
    "\n",
    "for playerr in range(1, number_players+1):\n",
    "    player_n = playerr #what player do we want to look at\n",
    "    all_the_lines = [player_hist('p'+str(player_n),Lotta_games_rand[i]) for i in range(monte_n)]\n",
    "    y_avgi = [summ_i(all_the_lines, x) for x in range(games+1)]\n",
    "    final_score_mcrlo += [[playerr, y_avgi[-1]]]\n",
    "    plt.plot(x,y_avgi , label = \"Player \"+str(player_n) , marker='o')\n",
    "\n",
    "    \n",
    "plt.legend()\n",
    "plt.show()"
   ]
  },
  {
   "cell_type": "code",
   "execution_count": null,
   "id": "8358a77d",
   "metadata": {
    "scrolled": true
   },
   "outputs": [],
   "source": [
    "#real rankings vs expected (average) rankings of players:\n",
    "\n",
    "#print('Real ranking: ' + str([i.name for i in ranked_true(players)]) )\n",
    "#print('Average ranking: ' +str(['p'+str(i[0]) for i in Sort_mcrlo(final_score_mcrlo)]) )\n",
    "\n",
    "for r in range(number_players):\n",
    "    if [i.name for i in ranked_true(players)][r] == ['p'+str(i[0]) for i in Sort_mcrlo(final_score_mcrlo)][r]:\n",
    "        print(Fore.GREEN + str(r), [i.name for i in ranked_true(players)][r],['p'+str(i[0]) for i in Sort_mcrlo(final_score_mcrlo)][r] )\n",
    "    else:\n",
    "        print(Fore.RED + str(r), [i.name for i in ranked_true(players)][r],['p'+str(i[0]) for i in Sort_mcrlo(final_score_mcrlo)][r] )\n"
   ]
  },
  {
   "cell_type": "code",
   "execution_count": null,
   "id": "a7c48faf",
   "metadata": {},
   "outputs": [],
   "source": [
    "Lotta_games_elo = []\n",
    "\n",
    "for i in range(monte_n):\n",
    "    players = [Player(player_names[i],  player_skills[i], 1000) for i in range(number_players)]\n",
    "    Lotta_games_elo += [chess_game_elo(players, games)]\n",
    "\n",
    "    \n",
    "#we can now graph all players after doing montecarlo\n",
    "\n",
    "x = range(games+1) \n",
    "figure(figsize=(16, 6), dpi=80) \n",
    "\n",
    "final_score_mcrlo=[]\n",
    "\n",
    "for playerr in range(1, number_players+1):\n",
    "    player_n = playerr #what player do we want to look at\n",
    "    all_the_lines = [player_hist('p'+str(player_n),Lotta_games_elo[i]) for i in range(monte_n)]\n",
    "    y_avgi = [summ_i(all_the_lines, x) for x in range(games+1)]\n",
    "    final_score_mcrlo += [[playerr, y_avgi[-1]]]\n",
    "    plt.plot(x,y_avgi , label = \"Player \"+str(player_n) )\n",
    "\n",
    "    \n",
    "#plt.legend()\n",
    "plt.show()"
   ]
  },
  {
   "cell_type": "code",
   "execution_count": null,
   "id": "c90da6ce",
   "metadata": {
    "scrolled": true
   },
   "outputs": [],
   "source": [
    "#real rankings vs expected (average) rankings of players:\n",
    "\n",
    "for r in range(number_players):\n",
    "    if [i.name for i in ranked_true(players)][r] == ['p'+str(i[0]) for i in Sort_mcrlo(final_score_mcrlo)][r]:\n",
    "        print(Fore.GREEN + str(r), [i.name for i in ranked_true(players)][r],['p'+str(i[0]) for i in Sort_mcrlo(final_score_mcrlo)][r] )\n",
    "    else:\n",
    "        print(Fore.RED + str(r), [i.name for i in ranked_true(players)][r],['p'+str(i[0]) for i in Sort_mcrlo(final_score_mcrlo)][r] )\n"
   ]
  },
  {
   "cell_type": "code",
   "execution_count": null,
   "id": "9b152580",
   "metadata": {
    "scrolled": true
   },
   "outputs": [],
   "source": [
    "[player for player in players]"
   ]
  },
  {
   "cell_type": "code",
   "execution_count": null,
   "id": "e614a817",
   "metadata": {},
   "outputs": [],
   "source": []
  }
 ],
 "metadata": {
  "kernelspec": {
   "display_name": "Python 3",
   "language": "python",
   "name": "python3"
  },
  "language_info": {
   "codemirror_mode": {
    "name": "ipython",
    "version": 3
   },
   "file_extension": ".py",
   "mimetype": "text/x-python",
   "name": "python",
   "nbconvert_exporter": "python",
   "pygments_lexer": "ipython3",
   "version": "3.8.8"
  },
  "vscode": {
   "interpreter": {
    "hash": "4f7527b0034a603a2f6ced09004f8a888be406f0f25f6fb9b2bc8cc71cf9bc4b"
   }
  }
 },
 "nbformat": 4,
 "nbformat_minor": 5
}
