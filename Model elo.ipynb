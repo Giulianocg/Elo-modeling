{
 "cells": [
  {
   "cell_type": "code",
   "execution_count": 1,
   "id": "75e9b971",
   "metadata": {},
   "outputs": [],
   "source": [
    "import math\n",
    "import random\n",
    "from collections import defaultdict, Counter, deque\n",
    "from typing import Tuple, List, Set, Dict, Counter\n",
    "from typing import Any, Sequence, Mapping, Iterable, Iterator\n",
    "from itertools import product, chain, islice\n",
    "import doctest"
   ]
  },
  {
   "cell_type": "code",
   "execution_count": 2,
   "id": "3ffd4ad8",
   "metadata": {},
   "outputs": [],
   "source": [
    "class Player:\n",
    "    \"\"\"A player with real skill and obvservable elo.\n",
    "    \n",
    "    >>> Player('', '1000')  # test robustness\n",
    "    Traceback (most recent call last):\n",
    "        ...\n",
    "    AssertionError: Must not be empty\n",
    "    >>> playerA = Player(1001, 1000)\n",
    "    >>> playerA  # also tests __repr__()\n",
    "    Player(1001, 1000)\n",
    "    >>> playerA.update(10)\n",
    "    >>> print(playerA)  # also tests __str__()\n",
    "    (1001,1010)\n",
    "    \"\"\"\n",
    "    def __init__(self, skill: int, elo:int) -> None:\n",
    "        \"\"\"Create player with given state.\n",
    "        \"\"\"\n",
    "        assert skill and elo, \"Must not be empty\"\n",
    "        self.skill: int = skill\n",
    "        self.elo: int = elo\n",
    "            \n",
    "    def __repr__(self) -> str:\n",
    "        \"\"\"Return machine-processable string representation of current state.\n",
    "        \"\"\"\n",
    "        return f\"Player({str(self.skill)}, {str(self.elo)})\"\n",
    "    \n",
    "    def __str__(self) -> str:\n",
    "        \"\"\"Return human-readable string representation of current state.\n",
    "        \"\"\"\n",
    "        return f\"({self.skill},{self.elo})\"\n",
    "    \n",
    "    def update(self, gain : int) -> None:\n",
    "        \"\"\" Update the elo after a match\"\"\"\n",
    "        self.elo = self.elo + gain"
   ]
  },
  {
   "cell_type": "code",
   "execution_count": 3,
   "id": "7d8bfc87",
   "metadata": {
    "scrolled": true
   },
   "outputs": [
    {
     "name": "stdout",
     "output_type": "stream",
     "text": [
      "Finding tests in Player\n",
      "Trying:\n",
      "    Player('', '1000')  # test robustness\n",
      "Expecting:\n",
      "    Traceback (most recent call last):\n",
      "        ...\n",
      "    AssertionError: Must not be empty\n",
      "ok\n",
      "Trying:\n",
      "    playerA = Player(1001, 1000)\n",
      "Expecting nothing\n",
      "ok\n",
      "Trying:\n",
      "    playerA  # also tests __repr__()\n",
      "Expecting:\n",
      "    Player(1001, 1000)\n",
      "ok\n",
      "Trying:\n",
      "    playerA.update(10)\n",
      "Expecting nothing\n",
      "ok\n",
      "Trying:\n",
      "    print(playerA)  # also tests __str__()\n",
      "Expecting:\n",
      "    (1001,1010)\n",
      "ok\n"
     ]
    }
   ],
   "source": [
    "doctest.run_docstring_examples(Player, globals(), verbose=True, name=\"Player\")  # with details"
   ]
  },
  {
   "cell_type": "code",
   "execution_count": 4,
   "id": "9347bb81",
   "metadata": {},
   "outputs": [
    {
     "data": {
      "text/plain": [
       "'\\ndef get_skill_r(indx: List(int), i: int ):\\n    \"defines how much skill do we birth our players with, this one is random between 1 and 2800\"\\n    return random.randint(1, 2800)\\n\\n\\ndef spawn_players(n: int):\\n    indx = [i for i in range(n)]\\n    for i in indx:    \\n        name = \\'player\\' + str(indx(i))\\n        name = Player(get_skill(indx, i), 1000)\\n        \\n'"
      ]
     },
     "execution_count": 4,
     "metadata": {},
     "output_type": "execute_result"
    }
   ],
   "source": [
    "\"\"\"\n",
    "def get_skill_r(indx: List(int), i: int ):\n",
    "    \"defines how much skill do we birth our players with, this one is random between 1 and 2800\"\n",
    "    return random.randint(1, 2800)\n",
    "\n",
    "\n",
    "def spawn_players(n: int):\n",
    "    indx = [i for i in range(n)]\n",
    "    for i in indx:    \n",
    "        name = 'player' + str(indx(i))\n",
    "        name = Player(get_skill(indx, i), 1000)\n",
    "        \n",
    "\"\"\""
   ]
  },
  {
   "cell_type": "code",
   "execution_count": 5,
   "id": "1cc8c896",
   "metadata": {},
   "outputs": [],
   "source": [
    "p1 = Player(random.randint(1,2800), 1000)\n",
    "p2 = Player(random.randint(1,2800), 1000)\n",
    "p3 = Player(random.randint(1,2800), 1000)\n",
    "p4 = Player(random.randint(1,2800), 1000)\n",
    "p5 = Player(random.randint(1,2800), 1000)\n",
    "p6 = Player(random.randint(1,2800), 1000)\n",
    "p7 = Player(random.randint(1,2800), 1000)\n",
    "p8 = Player(random.randint(1,2800), 1000)"
   ]
  },
  {
   "cell_type": "code",
   "execution_count": 6,
   "id": "58215ce8",
   "metadata": {},
   "outputs": [],
   "source": [
    "def match_chess(player1 : Player, player2: Player)->None:\n",
    "    P1win = 1/(1+10**((player2.skill - player1.skill)/400))\n",
    "    P1expec = 1/(1+10**((player2.elo - player1.elo)/400))\n",
    "    res = random.random()\n",
    "    \n",
    "    if res <= P1win:\n",
    "        player1.update( int(32*(1-P1expec)) ) \n",
    "        player2.update( int(32*(0-1*(1-P1expec) )))\n",
    "    elif res > P1win:\n",
    "        player1.update( int(32*(0-P1expec) ) )\n",
    "        player2.update( int(32*(1-1*(1-P1expec) )))"
   ]
  },
  {
   "cell_type": "code",
   "execution_count": 7,
   "id": "743adad7",
   "metadata": {},
   "outputs": [],
   "source": [
    "players = [p1, p2, p3, p4, p5, p6, p7, p8]"
   ]
  },
  {
   "cell_type": "code",
   "execution_count": 8,
   "id": "e48c2232",
   "metadata": {},
   "outputs": [],
   "source": [
    "def rand_matchmaking(players:List[Player]) -> List[Player]:\n",
    "    random.shuffle(players)\n",
    "    return players\n",
    "        "
   ]
  },
  {
   "cell_type": "code",
   "execution_count": 9,
   "id": "47b379dc",
   "metadata": {},
   "outputs": [],
   "source": [
    "def chess_round(players:List[Player]) -> None:\n",
    "    for i in range(len(players))[::2]:\n",
    "        match_chess(rand_matchmaking(players)[i], rand_matchmaking(players)[i+1])"
   ]
  },
  {
   "cell_type": "code",
   "execution_count": 10,
   "id": "6baa173d",
   "metadata": {},
   "outputs": [],
   "source": [
    "def chess_game(players:List[Player], games : int):\n",
    "    for i in range(games):\n",
    "        chess_round(players)"
   ]
  },
  {
   "cell_type": "code",
   "execution_count": 11,
   "id": "287635cb",
   "metadata": {},
   "outputs": [],
   "source": [
    "def ranked(players:List[Player]):\n",
    "    elos = [i.elo for i in players]\n",
    "    elos.sort()\n",
    "    for i in range(len(elos)):\n",
    "        elo = elos[i]\n",
    "        for p in players:\n",
    "            if p.elo == elo:\n",
    "                elos[i]=p\n",
    "    return elos"
   ]
  },
  {
   "cell_type": "code",
   "execution_count": 12,
   "id": "53437c83",
   "metadata": {},
   "outputs": [],
   "source": [
    "chess_game(players, 100)"
   ]
  },
  {
   "cell_type": "code",
   "execution_count": 13,
   "id": "03447bf9",
   "metadata": {},
   "outputs": [
    {
     "data": {
      "text/plain": [
       "[Player(5, 666),\n",
       " Player(760, 795),\n",
       " Player(1176, 834),\n",
       " Player(1649, 997),\n",
       " Player(2199, 1140),\n",
       " Player(2189, 1145),\n",
       " Player(2554, 1206),\n",
       " Player(2489, 1217)]"
      ]
     },
     "execution_count": 13,
     "metadata": {},
     "output_type": "execute_result"
    }
   ],
   "source": [
    "ranked(players)"
   ]
  },
  {
   "cell_type": "code",
   "execution_count": null,
   "id": "a6c68d54",
   "metadata": {},
   "outputs": [],
   "source": []
  }
 ],
 "metadata": {
  "kernelspec": {
   "display_name": "Python 3",
   "language": "python",
   "name": "python3"
  },
  "language_info": {
   "codemirror_mode": {
    "name": "ipython",
    "version": 3
   },
   "file_extension": ".py",
   "mimetype": "text/x-python",
   "name": "python",
   "nbconvert_exporter": "python",
   "pygments_lexer": "ipython3",
   "version": "3.8.8"
  }
 },
 "nbformat": 4,
 "nbformat_minor": 5
}
