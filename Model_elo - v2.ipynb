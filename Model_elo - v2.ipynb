{
 "cells": [
  {
   "cell_type": "code",
   "execution_count": 1,
   "id": "464b8e88",
   "metadata": {
    "scrolled": true
   },
   "outputs": [],
   "source": [
    "import math\n",
    "import random\n",
    "from collections import defaultdict, Counter, deque\n",
    "from typing import Tuple, List, Set, Dict, Counter\n",
    "from typing import Any, Sequence, Mapping, Iterable, Iterator\n",
    "from itertools import product, chain, islice\n",
    "import doctest\n",
    "import matplotlib.pyplot as plt\n",
    "from matplotlib.pyplot import figure\n",
    "import colorama\n",
    "from colorama import Fore\n",
    "import numpy as np\n",
    "import pylab \n",
    "import scipy.stats as stats\n",
    "from scipy.stats import shapiro \n",
    "from scipy.stats import lognorm"
   ]
  },
  {
   "cell_type": "code",
   "execution_count": 2,
   "id": "b379e01e",
   "metadata": {},
   "outputs": [],
   "source": [
    "from sklearn import linear_model\n",
    "import statsmodels.api as sm\n",
    "import pandas as pd"
   ]
  },
  {
   "cell_type": "code",
   "execution_count": 3,
   "id": "53b17362",
   "metadata": {},
   "outputs": [],
   "source": [
    "#change this for different models \n",
    "\n",
    "maxelogain = 32\n",
    "number_players =  10 #must be even\n",
    "games= 10\n",
    "monte_n = 100"
   ]
  },
  {
   "cell_type": "code",
   "execution_count": 4,
   "id": "525c7a61",
   "metadata": {},
   "outputs": [],
   "source": [
    "class Player:\n",
    "    \"\"\"A player with real skill and obvservable elo.\n",
    "    \n",
    "    >>> Player('p1', '', '1000')  # test robustness\n",
    "    Traceback (most recent call last):\n",
    "        ...\n",
    "    AssertionError: Must not be empty\n",
    "    >>> playerA = Player('p1',1001, 1000)\n",
    "    >>> playerA  # also tests __repr__()\n",
    "    Player(1001, 1000)\n",
    "    >>> playerA.update(10)\n",
    "    >>> print(playerA)  # also tests __str__()\n",
    "    (1001,1010)\n",
    "    \"\"\"\n",
    "    def __init__(self,name:str, skill: int, elo:int) -> None:\n",
    "        \"\"\"Create player with given state.\n",
    "        \"\"\"\n",
    "        assert name and skill and elo, \"Must not be empty\"\n",
    "        self.skill: int = skill\n",
    "        self.elo: int = elo\n",
    "        self.name: str = name\n",
    "            \n",
    "    def __repr__(self) -> str:\n",
    "        \"\"\"Return machine-processable string representation of current state.\n",
    "        \"\"\"\n",
    "        return f\"Player({self.name},{str(self.skill)}, {str(self.elo)})\"\n",
    "    \n",
    "    def __str__(self) -> str:\n",
    "        \"\"\"Return human-readable string representation of current state.\n",
    "        \"\"\"\n",
    "        return f\"({self.name},{self.skill},{self.elo})\"\n",
    "    \n",
    "    def update(self, gain : int) -> None:\n",
    "        \"\"\" Update the elo after a match\"\"\"\n",
    "        self.elo = self.elo + gain\n",
    "\n",
    "\n",
    "def match_chess(player1 : Player, player2: Player)->None:\n",
    "    P1win = 1/(1+10**((player2.skill - player1.skill)/400))\n",
    "    P1expec = 1/(1+10**((player2.elo - player1.elo)/400))\n",
    "    res = random.random()\n",
    "    \n",
    "    if res <= P1win:\n",
    "        player1.update( int(maxelogain*(1-P1expec)) ) \n",
    "        player2.update( int(maxelogain*(-1+P1expec) ))\n",
    "    elif res > P1win:\n",
    "        player1.update( int(maxelogain*(-P1expec) ) )\n",
    "        player2.update( int(maxelogain*(P1expec )))\n",
    "\n",
    "\n",
    "def ranked_elo(players2:List[Player]):\n",
    "    'input a kist of players (important). Output a ranked list of players. '\n",
    "    players=players2.copy()\n",
    "    players.sort(key= lambda x: x.elo)\n",
    "    players.reverse()\n",
    "    return players\n",
    "\n",
    "def ranked_skill(players2:List[Player]):\n",
    "    'same as above, but this is real skill, baby!'\n",
    "    'Every element is a rank, if multiple player have the same elo, they are in the same rank (i.e same list-element)'\n",
    "    players=players2.copy()\n",
    "    players.sort(key= lambda x: x.skill)\n",
    "    players.reverse()\n",
    "    ranks = []\n",
    "    current=[]\n",
    "    for p in players:\n",
    "        if (len(ranks)==0 and len(current)==0):\n",
    "            current += [p]\n",
    "        else:\n",
    "            if p.skill == current[0].skill:\n",
    "                current += [p]\n",
    "            else:\n",
    "                ranks += [current]\n",
    "                current = [p]\n",
    "    if len(current)!=0:\n",
    "        ranks += [current]\n",
    "    return ranks\n",
    "\n",
    "\n",
    "def rand_matchmaking(players:List[Player]) -> List[Player]:\n",
    "    random.shuffle(players)\n",
    "    return players\n",
    "def chess_round_rand(players:List[Player]) -> None:\n",
    "    order = rand_matchmaking(players)\n",
    "    for i in range(len(players))[::2]:\n",
    "        match_chess(order[i], order[i+1])\n",
    "def state(players:List[Player]):\n",
    "    players2 = players.copy()\n",
    "    state= [[i.name,i.skill, i.elo] for i in players2]\n",
    "    return state\n",
    "def chess_game_rand(players:List[Player], games : int) -> List[List[Player]]:\n",
    "    global Match_history \n",
    "    Match_history = [i for i in range(games+1)]\n",
    "    for i in range(games):\n",
    "        Match_history[i] = state(players)\n",
    "        chess_round_rand(players)\n",
    "    Match_history[-1] = state(players)\n",
    "    return Match_history\n",
    "\n",
    "def player_hist(player: str, match_hist):\n",
    "    elos = []\n",
    "    for state in match_hist:\n",
    "        for p in state:\n",
    "            if p[0] == player:  \n",
    "                elos += [p[2]]\n",
    "    return elos\n",
    "\n",
    "def summ_i(all_the_lines: List[List[int]], x:int)->float:\n",
    "    all_is = [all_the_lines[i][x] for i in range(monte_n)]\n",
    "    return sum(all_is)/len(all_is)\n",
    "\n",
    "\n",
    "\n",
    "def Sort_mcrlo(sub_li):\n",
    "    sub_li.sort(key = lambda x: x[1])\n",
    "    return sub_li\n",
    "def elo_matchmaking(players:List[Player]) -> List[Player]:\n",
    "    players.sort(key= lambda x: x.elo)\n",
    "    return players\n",
    "def chess_round_elo(players:List[Player]) -> None:\n",
    "    order = elo_matchmaking(players)\n",
    "    for i in range(len(players))[::2]:\n",
    "        match_chess(order[i], order[i+1])    \n",
    "def chess_game_elo(players:List[Player], games : int) -> List[List[Player]]:\n",
    "    global Match_history \n",
    "    Match_history = [i for i in range(games+1)]\n",
    "    for i in range(games):\n",
    "        Match_history[i] = state(players)\n",
    "        chess_round_elo(players)\n",
    "    Match_history[-1] = state(players)\n",
    "    return Match_history\n",
    "\n",
    "def display_ranks(players:List[Player]):\n",
    "    r_skill=ranked_skill(players)\n",
    "    r_elo=ranked_elo(players)\n",
    "    lenskill=len(ranked_skill(players))\n",
    "    \n",
    "    indxplayer = 0\n",
    "    r_elo_mch = []\n",
    "    for r in range(lenskill):\n",
    "        curr=[]\n",
    "        for i in range(len(r_skill[r])):\n",
    "            curr += [r_elo[indxplayer]]\n",
    "            indxplayer += 1\n",
    "        r_elo_mch += [curr]\n",
    "    r_elo = r_elo_mch\n",
    "    \n",
    "    for i in range(lenskill):\n",
    "        if r_skill[i] == r_elo[i]: \n",
    "            print(Fore.GREEN + str(i+1)+'::',  str([p.name for p in r_skill[i]])+' vs ',   str([p.name for p in r_elo[i]]))\n",
    "        elif r_skill[i] != r_elo[i]:\n",
    "            print(Fore.RED + str(i+1)+'::',  str([p.name for p in r_skill[i]]) +' vs ',   str([p.name for p in r_elo[i]]))   \n",
    "    \n",
    "def display_ranks_monte(players:List[Player], montec:List[List[int]])-> List[int]:\n",
    "    \n",
    "    final_score_mcrlo.sort(key = lambda x: x[1])\n",
    "    final_score_mcrlo.reverse()\n",
    "    r_elo = final_score_mcrlo\n",
    "    \n",
    "    r_skill=ranked_skill(players)\n",
    "    lenskill=len(ranked_skill(players))\n",
    "    \n",
    "    indxplayer = 0\n",
    "    r_elo_mch = []\n",
    "    for r in range(lenskill):\n",
    "        curr=[]\n",
    "        for i in range(len(r_skill[r])):\n",
    "            curr += [r_elo[indxplayer]]\n",
    "            indxplayer += 1\n",
    "        r_elo_mch += [curr]\n",
    "    r_elo = r_elo_mch\n",
    "    position_score = []\n",
    "    \n",
    "    for i in range(lenskill):\n",
    "        r_names_sk = [r_skill[i][x].name for x in range(len(r_skill[i]))]\n",
    "        r_names_el = [r_elo[i][x][0] for x in range(len(r_elo[i]))]\n",
    "        if r_names_sk == r_names_el: \n",
    "            position_score += [1]\n",
    "            print(Fore.GREEN + str(i+1)+'::',  str(r_names_sk)+' vs ',   str(r_names_el))\n",
    "        elif  r_names_sk != r_names_el:\n",
    "            position_score += [0]\n",
    "            print(Fore.RED + str(i+1)+'::', str(r_names_sk)+' vs ',   str(r_names_el))  \n",
    "    return position_score"
   ]
  },
  {
   "cell_type": "code",
   "execution_count": null,
   "id": "04685dcc",
   "metadata": {},
   "outputs": [],
   "source": [
    "#doctest.run_docstring_examples(Player, globals(), verbose=True, name=\"Player\")"
   ]
  },
  {
   "cell_type": "code",
   "execution_count": null,
   "id": "999e8ae1",
   "metadata": {
    "scrolled": true
   },
   "outputs": [],
   "source": [
    "player_names = ['p'+str(i) for i in range(1,number_players+1)]\n",
    "player_skills = [ random.randint(1,2800) for i in range(1,number_players+1)]\n",
    "\n",
    "players = [Player(player_names[i],  player_skills[i], 1000) for i in range(number_players)]"
   ]
  },
  {
   "cell_type": "code",
   "execution_count": null,
   "id": "940e9867",
   "metadata": {
    "scrolled": false
   },
   "outputs": [],
   "source": [
    "'''\n",
    "player_names = ['p'+str(i) for i in range(1,number_players+1)]\n",
    "player_skills = [ (2000/number_players)*i for i in range(1,number_players+1)]\n",
    "players = [Player(player_names[i],  player_skills[i], 1000) for i in range(number_players)]\n",
    "'''"
   ]
  },
  {
   "cell_type": "code",
   "execution_count": null,
   "id": "8460330a",
   "metadata": {
    "scrolled": false
   },
   "outputs": [],
   "source": [
    "#The graph of how each player's elo developed over the 100 games\n",
    "chess_game_rand(players, games) \n",
    "x = range(games+1)     #+5\n",
    "all_the_ys = [player_hist('p'+str(i),Match_history) for i in range(1,number_players+1)]\n",
    "figure(figsize=(16, 6), dpi=80)\n",
    "\n",
    "for i in range(len(all_the_ys)):   \n",
    "    plt.plot(x, all_the_ys[i], label = \"Player \"+str(i+1))    #+5*[all_the_ys[i][-1]\n",
    "    \n",
    "\n",
    "plt.xlabel('Game n') \n",
    "plt.ylabel('Elo') \n",
    "plt.title(\"How each player's elo developed over this simulation\")\n",
    "plt.savefig('single_rand_elosgraph.png')\n",
    "plt.show()"
   ]
  },
  {
   "cell_type": "code",
   "execution_count": null,
   "id": "aa090a02",
   "metadata": {
    "scrolled": true
   },
   "outputs": [],
   "source": [
    "#How does the elo ranking compare to the real skill ranking?\n",
    "display_ranks(players)"
   ]
  },
  {
   "cell_type": "code",
   "execution_count": null,
   "id": "5cbade23",
   "metadata": {},
   "outputs": [],
   "source": [
    "#for montecarlo sim, we use the same players and run a bunch (100) of simulations of games\n",
    "Lotta_games_rand = []\n",
    "\n",
    "for i in range(monte_n):\n",
    "    players = [Player(player_names[i],  player_skills[i], 1000) for i in range(number_players)]\n",
    "    Lotta_games_rand += [chess_game_rand(players, games)]"
   ]
  },
  {
   "cell_type": "code",
   "execution_count": null,
   "id": "94a34f85",
   "metadata": {
    "scrolled": false
   },
   "outputs": [],
   "source": [
    "#For a single player , this is 100 simulations of how their 100 games (x axis) could have gone, we will average\n",
    "#to find how well they're expected to do:\n",
    "\n",
    "player_n = 1 #what player do we want to look at\n",
    "\n",
    "x = range(games+1)  \n",
    "all_the_lines = [player_hist('p'+str(player_n),Lotta_games_rand[i]) for i in range(monte_n)]\n",
    "\n",
    "fig, axx = plt.subplots(figsize=(16, 5))\n",
    "ax = plt.subplot(121)\n",
    "ax2 = plt.subplot(122)\n",
    "fig.suptitle('Average of multiple simulations for the same player')\n",
    "ax.set_title('Full view')\n",
    "ax2.set_title('Close up view')\n",
    "for i in range(len(all_the_lines)):\n",
    "    ax.plot(x, all_the_lines[i],linewidth=1, color='yellow') \n",
    "    ax2.plot(x, all_the_lines[i],linewidth=1, color='yellow') \n",
    "    \n",
    "final= [summ_i(all_the_lines, x) for x in range(games+1)]\n",
    "ax.plot(x, final , label = \"Player \"+str(player_n), color='red', linewidth=2 )\n",
    "ax2.plot(x, final , label = \"Player \"+str(player_n), color='red', linewidth=2 )\n",
    "\n",
    "\n",
    "ax2.set_xlim([games -15,games])\n",
    "ax2.set_ylim([final[-1]-30, final[-1]+30])\n",
    "#plt.legend()\n",
    "fig.savefig('Single player montecarlo.png')\n",
    "plt.show()"
   ]
  },
  {
   "cell_type": "code",
   "execution_count": null,
   "id": "1d94642d",
   "metadata": {
    "scrolled": true
   },
   "outputs": [],
   "source": [
    "#we can now graph all players after doing montecarlo\n",
    "\n",
    "x = range(games+1) \n",
    "figure(figsize=(16, 6), dpi=80) \n",
    "\n",
    "final_score_mcrlo=[]\n",
    "\n",
    "for playerr in range(1, number_players+1):\n",
    "    player_n = playerr #what player do we want to look at\n",
    "    all_the_lines = [player_hist('p'+str(player_n),Lotta_games_rand[i]) for i in range(monte_n)]\n",
    "    y_avg = [summ_i(all_the_lines, x) for x in range(games+1)]\n",
    "    final_score_mcrlo += [['p'+str(playerr), y_avg[-1]]]\n",
    "    plt.plot(x,y_avg , label = \"Player \"+str(player_n) )\n",
    "\n",
    "plt.title(\"Average of how each player's elo developed over multiple simulations\")\n",
    "plt.xlabel('Game n') \n",
    "plt.ylabel('Elo') \n",
    "plt.savefig('Monte_rand')\n",
    "#plt.legend()\n",
    "plt.show()"
   ]
  },
  {
   "cell_type": "code",
   "execution_count": null,
   "id": "8358a77d",
   "metadata": {
    "scrolled": true
   },
   "outputs": [],
   "source": [
    "#real rankings vs expected (average) rankings of players:\n",
    "\n",
    "score_rand = display_ranks_monte(players,final_score_mcrlo )\n",
    "print(np.dot(score_rand, score_rand)/number_players)"
   ]
  },
  {
   "cell_type": "code",
   "execution_count": null,
   "id": "f84dcca3",
   "metadata": {},
   "outputs": [],
   "source": [
    "#Question: Do our players get distributed normally based on elo with random?\n",
    "dist_rand =np.array([int(i[1]) for i in final_score_mcrlo])\n",
    "bins=math.ceil(math.sqrt((max(dist_rand)-min(dist_rand))))\n",
    "plt.hist(dist_rand ,bins=[i for i in range(min(dist_rand),max(dist_rand))][::bins])\n",
    "plt.savefig('distr_rand.png')"
   ]
  },
  {
   "cell_type": "code",
   "execution_count": null,
   "id": "a7c48faf",
   "metadata": {},
   "outputs": [],
   "source": [
    "Lotta_games_elo = []\n",
    "\n",
    "for i in range(monte_n):\n",
    "    players = [Player(player_names[i],  player_skills[i], 1000) for i in range(number_players)]\n",
    "    Lotta_games_elo += [chess_game_elo(players, games)]\n",
    "\n",
    "    \n",
    "#we can now graph all players after doing montecarlo\n",
    "\n",
    "x = range(games+1) \n",
    "figure(figsize=(16, 6), dpi=80) \n",
    "\n",
    "final_score_mcrlo2=[]\n",
    "\n",
    "for playerr in range(1, number_players+1):\n",
    "    player_n = playerr #what player do we want to look at\n",
    "    all_the_lines = [player_hist('p'+str(player_n),Lotta_games_elo[i]) for i in range(monte_n)]\n",
    "    y_avgi = [summ_i(all_the_lines, x) for x in range(games+1)]\n",
    "    final_score_mcrlo2 += [['p'+str(playerr), y_avgi[-1]]]\n",
    "    plt.plot(x,y_avgi , label = \"Player \"+str(player_n) )\n",
    "\n",
    "plt.title(\"Average of how each player's elo developed over multiple simulations\")\n",
    "plt.xlabel('Game n') \n",
    "plt.ylabel('Elo') \n",
    "plt.savefig('Monte_elo')\n",
    "#plt.legend()\n",
    "plt.show()"
   ]
  },
  {
   "cell_type": "code",
   "execution_count": null,
   "id": "c90da6ce",
   "metadata": {
    "scrolled": true
   },
   "outputs": [],
   "source": [
    "#real rankings vs expected (average) rankings of players:\n",
    "\n",
    "score_elo = display_ranks_monte(players,final_score_mcrlo2 )"
   ]
  },
  {
   "cell_type": "code",
   "execution_count": null,
   "id": "9b152580",
   "metadata": {
    "scrolled": true
   },
   "outputs": [],
   "source": [
    "print(np.dot(score_elo,score_elo)/number_players)"
   ]
  },
  {
   "cell_type": "code",
   "execution_count": null,
   "id": "e614a817",
   "metadata": {
    "scrolled": true
   },
   "outputs": [],
   "source": [
    "#Question: Do our players get distributed normally based on elo?\n",
    "a=np.array([int(i[1]) for i in final_score_mcrlo2])\n",
    "bins=math.ceil(math.sqrt((max(a)-min(a))))\n",
    "\n",
    "plt.hist(a,bins=[i for i in range(min(a),max(a))][::bins])\n",
    "#plt.savefig('Normal_matchmaking_400p.png')\n",
    "plt.show()"
   ]
  },
  {
   "cell_type": "code",
   "execution_count": null,
   "id": "93807c65",
   "metadata": {
    "scrolled": true
   },
   "outputs": [],
   "source": [
    "#Is this dist. normal? Yes!\n",
    "stats.probplot(a, dist=\"norm\", plot=pylab)\n",
    "#plt.savefig('qq-plot_normal_400p.png')\n",
    "pylab.show()\n",
    "shapiro(a)\n",
    "\n",
    "Mean_a = sum(a)/len(a)\n",
    "var_a= np.var(a)\n",
    "print(Mean_a, var_a, (max(a)- min(a))/2 )"
   ]
  },
  {
   "cell_type": "code",
   "execution_count": null,
   "id": "c5fbd517",
   "metadata": {},
   "outputs": [],
   "source": [
    "shapiro(a)"
   ]
  },
  {
   "cell_type": "code",
   "execution_count": null,
   "id": "2f7f3ae6",
   "metadata": {
    "scrolled": true
   },
   "outputs": [],
   "source": [
    "print(Mean_a, var_a)"
   ]
  },
  {
   "cell_type": "code",
   "execution_count": null,
   "id": "67d862c7",
   "metadata": {},
   "outputs": [],
   "source": [
    "df = pd.DataFrame({'diff':[],'games':[] , 'players':[] })"
   ]
  },
  {
   "cell_type": "code",
   "execution_count": null,
   "id": "1a06dd38",
   "metadata": {},
   "outputs": [],
   "source": [
    "#this is to get data for the Linear regression, commented out because it takes a whiiiiiiile.\n",
    "'''\n",
    "maxelogain = 32\n",
    "number_players =  10 #must be even\n",
    "games= 10\n",
    "monte_n = 100\n",
    "\n",
    "nn = 10\n",
    "for ppl in (50, 100, 150):\n",
    "    number_players = ppl\n",
    "    for g in (10, 20, 30, 40, 50, 100, 150):\n",
    "        games= g\n",
    "        for i in range(nn):\n",
    "            player_names = ['p'+str(i) for i in range(1,number_players+1)]\n",
    "            player_skills = [ random.randint(1,2800) for i in range(1,number_players+1)]\n",
    "            players = [Player(player_names[i],  player_skills[i], 1000) for i in range(number_players)]\n",
    "\n",
    "\n",
    "            Lotta_games_elo = []\n",
    "\n",
    "            for i in range(monte_n):\n",
    "                players = [Player(player_names[i],  player_skills[i], 1000) for i in range(number_players)]\n",
    "                Lotta_games_elo += [chess_game_elo(players, games)]\n",
    "\n",
    "\n",
    "            #we can now graph all players after doing montecarlo\n",
    "\n",
    "            x = range(games+1) \n",
    "            final_score_mcrlo2=[]\n",
    "\n",
    "            for playerr in range(1, number_players+1):\n",
    "                player_n = playerr #what player do we want to look at\n",
    "                all_the_lines = [player_hist('p'+str(player_n),Lotta_games_elo[i]) for i in range(monte_n)]\n",
    "                y_avgi = [summ_i(all_the_lines, x) for x in range(games+1)]\n",
    "                final_score_mcrlo2 += [['p'+str(playerr), y_avgi[-1]]]\n",
    "\n",
    "            #Question: Do our players get distributed normally based on elo?\n",
    "            a=np.array([int(i[1]) for i in final_score_mcrlo2])\n",
    "\n",
    "            diff = (max(a)-min(a))/2\n",
    "            df = df.append( {'diff':diff,'games':games , 'players':number_players }   ,  ignore_index=True)\n",
    "\n",
    "\n",
    "'''"
   ]
  },
  {
   "cell_type": "code",
   "execution_count": null,
   "id": "f9481792",
   "metadata": {},
   "outputs": [],
   "source": [
    "#regression stuff here"
   ]
  },
  {
   "cell_type": "code",
   "execution_count": null,
   "id": "382e204c",
   "metadata": {},
   "outputs": [],
   "source": [
    "#df.to_pickle(\"coefficients.pkl\")"
   ]
  },
  {
   "cell_type": "code",
   "execution_count": 5,
   "id": "8bec4e3a",
   "metadata": {},
   "outputs": [],
   "source": [
    "#df = pd.read_pickle(\"coefficients.pkl\")"
   ]
  },
  {
   "cell_type": "code",
   "execution_count": 41,
   "id": "661babe9",
   "metadata": {},
   "outputs": [
    {
     "name": "stdout",
     "output_type": "stream",
     "text": [
      "Intercept: \n",
      " -17.654399025763226\n",
      "Coefficients: \n",
      " [0.17048928 0.00046653]\n"
     ]
    }
   ],
   "source": [
    "x = df[['diff','diff2']]\n",
    "y = df['games']\n",
    "\n",
    "# with sklearn\n",
    "regr = linear_model.LinearRegression()\n",
    "regr.fit(x, y)\n",
    "\n",
    "print('Intercept: \\n', regr.intercept_)\n",
    "print('Coefficients: \\n', regr.coef_)"
   ]
  },
  {
   "cell_type": "code",
   "execution_count": 42,
   "id": "8cab6359",
   "metadata": {
    "scrolled": true
   },
   "outputs": [
    {
     "data": {
      "image/png": "[encoded data removed]",
      "text/plain": [
       "<Figure size 432x288 with 1 Axes>"
      ]
     },
     "metadata": {
      "needs_background": "light"
     },
     "output_type": "display_data"
    }
   ],
   "source": [
    "plt.scatter(y, x['diff'],color='g') \n",
    "\n",
    "axs = [i for i in range(700)]\n",
    "fx = []\n",
    "for i in range(len(axs)):\n",
    "    fx.append(regr.intercept_ + regr.coef_[0]*axs[i]+regr.coef_[1]*(axs[i]**2) )\n",
    "plt.plot(fx, axs)\n",
    "\n",
    "plt.title(\"Linear regression for d\")\n",
    "plt.xlabel('d') \n",
    "plt.ylabel('Game number')\n",
    "#plt.savefig('Quadratic regression for d')\n",
    "plt.show()"
   ]
  },
  {
   "cell_type": "code",
   "execution_count": 33,
   "id": "126624d5",
   "metadata": {},
   "outputs": [],
   "source": [
    "df['diff3'] = [i**3 for i in df['diff'].values.tolist()]"
   ]
  },
  {
   "cell_type": "code",
   "execution_count": 38,
   "id": "dfebab4c",
   "metadata": {},
   "outputs": [
    {
     "data": {
      "text/plain": [
       "39.65510807210694"
      ]
     },
     "execution_count": 38,
     "metadata": {},
     "output_type": "execute_result"
    }
   ],
   "source": [
    "regr.intercept_"
   ]
  },
  {
   "cell_type": "code",
   "execution_count": null,
   "id": "e1e945b7",
   "metadata": {},
   "outputs": [],
   "source": []
  }
 ],
 "metadata": {
  "kernelspec": {
   "display_name": "Python 3",
   "language": "python",
   "name": "python3"
  },
  "language_info": {
   "codemirror_mode": {
    "name": "ipython",
    "version": 3
   },
   "file_extension": ".py",
   "mimetype": "text/x-python",
   "name": "python",
   "nbconvert_exporter": "python",
   "pygments_lexer": "ipython3",
   "version": "3.8.8"
  },
  "vscode": {
   "interpreter": {
    "hash": "4f7527b0034a603a2f6ced09004f8a888be406f0f25f6fb9b2bc8cc71cf9bc4b"
   }
  }
 },
 "nbformat": 4,
 "nbformat_minor": 5
}
