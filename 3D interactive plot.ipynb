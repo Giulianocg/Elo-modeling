{
 "cells": [
  {
   "cell_type": "code",
   "execution_count": 1,
   "id": "de508ed6",
   "metadata": {},
   "outputs": [
    {
     "data": {
      "text/plain": [
       "Text(0.5, 0, 'largest difference from 1000 elo')"
      ]
     },
     "execution_count": 1,
     "metadata": {},
     "output_type": "execute_result"
    }
   ],
   "source": [
    "%matplotlib qt\n",
    "import pandas as pd\n",
    "import numpy as np\n",
    "import matplotlib.pyplot as plt\n",
    "from mpl_toolkits import mplot3d\n",
    "\n",
    "df =pd.read_pickle(\"coefficients1.pkl\")\n",
    "\n",
    "fig = plt.figure(figsize=(9, 6))\n",
    "ax = plt.axes(projection='3d')\n",
    "\n",
    "xs = df['games'].values.tolist()\n",
    "ys = df['players'].values.tolist()\n",
    "zs = df['diff'].values.tolist()\n",
    "ax.scatter(xs, ys, zs)\n",
    "\n",
    "ax.set_title(\"How d depends on n and g\")\n",
    "ax.set_xlabel('number of games')\n",
    "ax.set_ylabel('number of players')\n",
    "ax.set_zlabel('largest difference from 1000 elo')\n",
    "\n"
   ]
  },
  {
   "cell_type": "code",
   "execution_count": 27,
   "id": "13310892",
   "metadata": {
    "scrolled": true
   },
   "outputs": [],
   "source": [
    "ax1 = df.plot.scatter(y='games',x='diff2')"
   ]
  },
  {
   "cell_type": "code",
   "execution_count": 25,
   "id": "68bb088f",
   "metadata": {},
   "outputs": [],
   "source": [
    "#df.to_pickle(\"coefficients.pkl\")"
   ]
  }
 ],
 "metadata": {
  "kernelspec": {
   "display_name": "Python 3",
   "language": "python",
   "name": "python3"
  },
  "language_info": {
   "codemirror_mode": {
    "name": "ipython",
    "version": 3
   },
   "file_extension": ".py",
   "mimetype": "text/x-python",
   "name": "python",
   "nbconvert_exporter": "python",
   "pygments_lexer": "ipython3",
   "version": "3.8.8"
  }
 },
 "nbformat": 4,
 "nbformat_minor": 5
}
